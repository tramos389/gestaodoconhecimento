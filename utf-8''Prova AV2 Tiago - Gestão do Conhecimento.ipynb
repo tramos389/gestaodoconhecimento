{
  "cells": [
    {
      "metadata": {
        "trusted": true
      },
      "cell_type": "code",
      "source": "",
      "execution_count": null,
      "outputs": []
    },
    {
      "metadata": {},
      "cell_type": "markdown",
      "source": "DISCIPLINA: Gestão do Conhecimento\t PROFESSOR(A): Alex Salgado\nPERÍODO: 7o. TURNO: noite AVALIAÇÃO:\n\nALUNO(A): Tiago Ramos da Fonseca\n\nGRAU: VISTO DO PROFESSOR:\n"
    },
    {
      "metadata": {},
      "cell_type": "markdown",
      "source": "# Questão 1 - valor (1,0)\n"
    },
    {
      "metadata": {},
      "cell_type": "markdown",
      "source": "*** Crie um repositório no Github e adicione este arquivo no mesmo\n\n\n1.1 - Você deve escolher uma base de dados aberta que seja possível treinar um modelo de aprendizagem de máquina Supervisionado de Classificação (assim como o exemplo da Iris e Cancer). A partir desta base de dados, você vai treinar o modelo, fazer previsões e calcular a acurácia do mesmo.\nObs.: Não utilizar nenhuma base de dados usada em aula ou nos trabalhos.\nAs bases de dados não poderá ser igual a do seu colega, dessa forma, preencha a planilha abaixo dizendo a sua base e seu tema. \nhttps://forms.gle/CvmN5fr4u2g5zoZRA\n\n\n** Para saber se já escolheram o mesmo que você, consulte no link abaixo.\nhttps://docs.google.com/spreadsheets/d/1E_GuH7C8vn_o-gyOeN5LavoQlByjVQb1UiVfP71OX3g/edit?usp=sharing\n"
    },
    {
      "metadata": {
        "trusted": true
      },
      "cell_type": "code",
      "source": "#https://www.kaggle.com/mohansacharya/graduate-admissions",
      "execution_count": 1,
      "outputs": []
    },
    {
      "metadata": {},
      "cell_type": "markdown",
      "source": "1.2 - Após tratada, criar uma pasta no seu GoogleDrive e disponibilizar o link do arquivo de sua base (csv, xlsx, etc) para ser importado no seu código."
    },
    {
      "metadata": {
        "trusted": true
      },
      "cell_type": "code",
      "source": "# https://docs.google.com/spreadsheets/d/1pqWaLzOhyEgHXt9pE1O2jPHjF-3ztBr-IVjG1bUlfdM/edit?usp=sharing",
      "execution_count": 2,
      "outputs": []
    },
    {
      "metadata": {},
      "cell_type": "markdown",
      "source": "## Criar um código usando o Jupyter Notebook e responder (através de código) às seguintes questões:\n"
    },
    {
      "metadata": {},
      "cell_type": "markdown",
      "source": "# Questão 2 - valor (1,0)"
    },
    {
      "metadata": {},
      "cell_type": "markdown",
      "source": "2.1 - Importar os modulos python para machine learn e carregar o arquivo \n\n** Sugestão se for do tipo xlsx, usar o read_excel do pandas\nimport pandas as pd\ndt = pd.read_excel(\"meuarquivo.xlsx\")\n"
    },
    {
      "metadata": {
        "trusted": true
      },
      "cell_type": "code",
      "source": "import pandas as pd\ndata = pd.read_csv('Admission_Predict.csv', index_col=0)",
      "execution_count": 3,
      "outputs": []
    },
    {
      "metadata": {},
      "cell_type": "markdown",
      "source": "2.2 - Exibir os primeiros registros desta tabela.\n"
    },
    {
      "metadata": {
        "trusted": true
      },
      "cell_type": "code",
      "source": "data.head()",
      "execution_count": 4,
      "outputs": [
        {
          "output_type": "execute_result",
          "execution_count": 4,
          "data": {
            "text/plain": "            GRE Score  TOEFL Score  University Rating  SOP  LOR   CGPA  \\\nSerial No.                                                               \n1                 337          118                  4  4.5   4.5  9.65   \n2                 324          107                  4  4.0   4.5  8.87   \n3                 316          104                  3  3.0   3.5  8.00   \n4                 322          110                  3  3.5   2.5  8.67   \n5                 314          103                  2  2.0   3.0  8.21   \n\n            Research  Chance of Admit   \nSerial No.                              \n1                  1              0.92  \n2                  1              0.76  \n3                  1              0.72  \n4                  1              0.80  \n5                  0              0.65  ",
            "text/html": "<div>\n<table border=\"1\" class=\"dataframe\">\n  <thead>\n    <tr style=\"text-align: right;\">\n      <th></th>\n      <th>GRE Score</th>\n      <th>TOEFL Score</th>\n      <th>University Rating</th>\n      <th>SOP</th>\n      <th>LOR</th>\n      <th>CGPA</th>\n      <th>Research</th>\n      <th>Chance of Admit</th>\n    </tr>\n    <tr>\n      <th>Serial No.</th>\n      <th></th>\n      <th></th>\n      <th></th>\n      <th></th>\n      <th></th>\n      <th></th>\n      <th></th>\n      <th></th>\n    </tr>\n  </thead>\n  <tbody>\n    <tr>\n      <th>1</th>\n      <td>337</td>\n      <td>118</td>\n      <td>4</td>\n      <td>4.5</td>\n      <td>4.5</td>\n      <td>9.65</td>\n      <td>1</td>\n      <td>0.92</td>\n    </tr>\n    <tr>\n      <th>2</th>\n      <td>324</td>\n      <td>107</td>\n      <td>4</td>\n      <td>4.0</td>\n      <td>4.5</td>\n      <td>8.87</td>\n      <td>1</td>\n      <td>0.76</td>\n    </tr>\n    <tr>\n      <th>3</th>\n      <td>316</td>\n      <td>104</td>\n      <td>3</td>\n      <td>3.0</td>\n      <td>3.5</td>\n      <td>8.00</td>\n      <td>1</td>\n      <td>0.72</td>\n    </tr>\n    <tr>\n      <th>4</th>\n      <td>322</td>\n      <td>110</td>\n      <td>3</td>\n      <td>3.5</td>\n      <td>2.5</td>\n      <td>8.67</td>\n      <td>1</td>\n      <td>0.80</td>\n    </tr>\n    <tr>\n      <th>5</th>\n      <td>314</td>\n      <td>103</td>\n      <td>2</td>\n      <td>2.0</td>\n      <td>3.0</td>\n      <td>8.21</td>\n      <td>0</td>\n      <td>0.65</td>\n    </tr>\n  </tbody>\n</table>\n</div>"
          },
          "metadata": {}
        }
      ]
    },
    {
      "metadata": {},
      "cell_type": "markdown",
      "source": "2.3 - De que se trata esse banco de dados? e que tipo de previsão pode ser feito com ele?\n"
    },
    {
      "metadata": {
        "trusted": true
      },
      "cell_type": "code",
      "source": "# Este conjunto de dados é criado para previsão de admissões de pós-graduação de uma perspectiva indiana.\n# Prever as admissões depois da pós graduação",
      "execution_count": 5,
      "outputs": []
    },
    {
      "metadata": {},
      "cell_type": "markdown",
      "source": "# Questão 3 - valor (0,5)\n"
    },
    {
      "metadata": {},
      "cell_type": "markdown",
      "source": "Utilizando as terminologias de Machine Learning(features e observações):\n\n"
    },
    {
      "metadata": {},
      "cell_type": "markdown",
      "source": "3.1 - Quantas \"features\" têm nessa base de dados?"
    },
    {
      "metadata": {
        "trusted": true
      },
      "cell_type": "code",
      "source": "shape = data.shape\nprint('Quantidade de features: {}'.format(shape[1] - 1))",
      "execution_count": 5,
      "outputs": [
        {
          "output_type": "stream",
          "text": "Quantidade de features: 7\n",
          "name": "stdout"
        }
      ]
    },
    {
      "metadata": {},
      "cell_type": "markdown",
      "source": "3.2 - Quantas observações têm nessa base de dados?\n"
    },
    {
      "metadata": {
        "trusted": true
      },
      "cell_type": "code",
      "source": "print('Quantidade de observações: {}'.format(shape[0]))",
      "execution_count": 6,
      "outputs": [
        {
          "output_type": "stream",
          "text": "Quantidade de observações: 400\n",
          "name": "stdout"
        }
      ]
    },
    {
      "metadata": {},
      "cell_type": "markdown",
      "source": "# Questão 4 - valor (1,5)\n"
    },
    {
      "metadata": {},
      "cell_type": "markdown",
      "source": "4.1 - Faça uma previsão, usando o algoritmo de LogisticRegression.\n"
    },
    {
      "metadata": {
        "trusted": true
      },
      "cell_type": "code",
      "source": "x_vars = []\nfor column in data.columns:\n    x_vars.append(column)\nx_vars.remove('Chance of Admit ')\nX = data[x_vars].values\ny = data['Chance of Admit '].values\nfrom sklearn import preprocessing\nlab_enc = preprocessing.LabelEncoder()\ny_encoded = lab_enc.fit_transform(y)\nfrom sklearn.linear_model import LogisticRegression\nlogreg = LogisticRegression()\nlogreg.fit(X, y_encoded)\nlogreg.predict(X)\ny_pred = logreg.predict(X)\nlen(y_pred)",
      "execution_count": 22,
      "outputs": [
        {
          "output_type": "execute_result",
          "execution_count": 22,
          "data": {
            "text/plain": "400"
          },
          "metadata": {}
        }
      ]
    },
    {
      "metadata": {},
      "cell_type": "markdown",
      "source": "# Questão 5 - valor (2,0)\n"
    },
    {
      "metadata": {},
      "cell_type": "markdown",
      "source": "Usando o método de avaliação de acurácia (Treinar e testar na base de dados inteira/Train test entire model), Calcular a acurácia de cada um dos 3 métodos abaixo."
    },
    {
      "metadata": {},
      "cell_type": "markdown",
      "source": "4.1 - Acurácia usando o algoritmo de KNN (com 1 vizinho, k=1)\n"
    },
    {
      "metadata": {
        "trusted": true
      },
      "cell_type": "code",
      "source": "from sklearn.neighbors import KNeighborsClassifier\nfrom sklearn import metrics\n\nknn = KNeighborsClassifier(n_neighbors=1)\nknn.fit(X, y_encoded)\ny_pred = knn.predict(X)\nprint(metrics.accuracy_score(y_encoded, y_pred))",
      "execution_count": 25,
      "outputs": [
        {
          "output_type": "stream",
          "text": "1.0\n",
          "name": "stdout"
        }
      ]
    },
    {
      "metadata": {},
      "cell_type": "markdown",
      "source": "4.2 - Acurácia usando o algoritmo de KNN (com 5 vizinho, k=5)\n"
    },
    {
      "metadata": {
        "trusted": true
      },
      "cell_type": "code",
      "source": "knn = KNeighborsClassifier(n_neighbors=5)\nknn.fit(X, y_encoded)\ny_pred = knn.predict(X)\nprint(metrics.accuracy_score(y_encoded, y_pred))",
      "execution_count": 26,
      "outputs": [
        {
          "output_type": "stream",
          "text": "0.315\n",
          "name": "stdout"
        }
      ]
    },
    {
      "metadata": {},
      "cell_type": "markdown",
      "source": "4.3 - Acurácia usando o algoritmo de LogisticRegression\n"
    },
    {
      "metadata": {
        "trusted": true
      },
      "cell_type": "code",
      "source": "logreg.fit(X, y_encoded)\nlogreg.predict(X)\ny_pred = logreg.predict(X)\nprint(metrics.accuracy_score(y_encoded, y_pred))",
      "execution_count": 27,
      "outputs": [
        {
          "output_type": "stream",
          "text": "0.155\n",
          "name": "stdout"
        }
      ]
    },
    {
      "metadata": {},
      "cell_type": "markdown",
      "source": "4.4 - De acordo com seus resultados anteriores, qual dos 3 métodos é mais eficiente?\n"
    },
    {
      "metadata": {
        "trusted": true
      },
      "cell_type": "code",
      "source": "#O primeiro método é o mais eficiente.",
      "execution_count": 12,
      "outputs": []
    },
    {
      "metadata": {
        "trusted": false
      },
      "cell_type": "code",
      "source": "*** Envie o link do seu Github com essa resposta no Classroom\n",
      "execution_count": null,
      "outputs": []
    }
  ],
  "metadata": {
    "kernelspec": {
      "name": "python3",
      "display_name": "Python 3",
      "language": "python"
    },
    "language_info": {
      "mimetype": "text/x-python",
      "nbconvert_exporter": "python",
      "name": "python",
      "file_extension": ".py",
      "version": "3.5.4",
      "pygments_lexer": "ipython3",
      "codemirror_mode": {
        "version": 3,
        "name": "ipython"
      }
    }
  },
  "nbformat": 4,
  "nbformat_minor": 2
}